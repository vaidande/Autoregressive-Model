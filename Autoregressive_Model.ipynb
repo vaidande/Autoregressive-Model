{
  "nbformat": 4,
  "nbformat_minor": 0,
  "metadata": {
    "colab": {
      "name": "Autoregressive Model",
      "provenance": [],
      "collapsed_sections": [],
      "authorship_tag": "ABX9TyONYblNwoL3B2JeIRSXQn+t",
      "include_colab_link": true
    },
    "kernelspec": {
      "name": "python3",
      "display_name": "Python 3"
    }
  },
  "cells": [
    {
      "cell_type": "markdown",
      "metadata": {
        "id": "view-in-github",
        "colab_type": "text"
      },
      "source": [
        "<a href=\"https://colab.research.google.com/github/vaidande/Autoregressive-Model/blob/main/Autoregressive_Model.ipynb\" target=\"_parent\"><img src=\"https://colab.research.google.com/assets/colab-badge.svg\" alt=\"Open In Colab\"/></a>"
      ]
    },
    {
      "cell_type": "code",
      "metadata": {
        "id": "HGV18-4vL7zB"
      },
      "source": [
        "import tensorflow as tf\n",
        "\n",
        "from tensorflow.keras.layers import Input, Dense\n",
        "from tensorflow.keras.models import Model\n",
        "from tensorflow.keras.optimizers import SGD, Adam\n",
        "\n",
        "import numpy as np\n",
        "import pandas as pd\n",
        "import matplotlib.pyplot as plt"
      ],
      "execution_count": 10,
      "outputs": []
    },
    {
      "cell_type": "code",
      "metadata": {
        "id": "SWkKM1CpMvZe",
        "outputId": "9bbec555-da2c-417a-f112-4c68dc74245d",
        "colab": {
          "base_uri": "https://localhost:8080/",
          "height": 265
        }
      },
      "source": [
        "series = np.sin(0.1*np.arange(200)) + np.random.randn(200)*0.1 # (np.random.randn(200)*0.1) adding noise\n",
        "plt.plot(series)\n",
        "plt.show()"
      ],
      "execution_count": 11,
      "outputs": [
        {
          "output_type": "display_data",
          "data": {
            "image/png": "[encoded data removed]",
            "text/plain": [
              "<Figure size 432x288 with 1 Axes>"
            ]
          },
          "metadata": {
            "tags": [],
            "needs_background": "light"
          }
        }
      ]
    },
    {
      "cell_type": "code",
      "metadata": {
        "id": "w0fxgvl_PLEx",
        "outputId": "dc1a356a-e868-49f6-e2cc-e95bdcdf3e94",
        "colab": {
          "base_uri": "https://localhost:8080/",
          "height": 35
        }
      },
      "source": [
        "len(series)"
      ],
      "execution_count": 12,
      "outputs": [
        {
          "output_type": "execute_result",
          "data": {
            "text/plain": [
              "200"
            ]
          },
          "metadata": {
            "tags": []
          },
          "execution_count": 12
        }
      ]
    },
    {
      "cell_type": "code",
      "metadata": {
        "id": "kBuJv9acMvVS",
        "outputId": "a7363cfe-3c5d-4ee7-8a10-3061acdc4c8b",
        "colab": {
          "base_uri": "https://localhost:8080/",
          "height": 35
        }
      },
      "source": [
        "T = 10\n",
        "X = []\n",
        "Y = []\n",
        "for t in range(len(series) - T): # i.e. 200-10=190\n",
        "  x = series[t:t+T] # eg. [0 to 0+10], [1 to 1+10], [2 to 2+10]\n",
        "  X.append(x)\n",
        "  y = series[t+T] # eg. [0+10], [1+10], [2+10]\n",
        "  Y.append(y)\n",
        "\n",
        "X = np.array(X).reshape(-1, T)\n",
        "Y = np.array(Y)\n",
        "N = len(X)\n",
        "print(\"X.shape\", X.shape, \"Y.shape\", Y.shape)"
      ],
      "execution_count": 13,
      "outputs": [
        {
          "output_type": "stream",
          "text": [
            "X.shape (190, 10) Y.shape (190,)\n"
          ],
          "name": "stdout"
        }
      ]
    },
    {
      "cell_type": "code",
      "metadata": {
        "id": "5gwwXtfSOYtZ",
        "outputId": "c7e75be3-855f-4ca9-ed6e-72587474b0fa",
        "colab": {
          "base_uri": "https://localhost:8080/",
          "height": 1000
        }
      },
      "source": [
        "### try autoregressive linear model\n",
        "i = Input(shape=(T,))\n",
        "x = Dense(1)(i)\n",
        "model = Model(i, x)\n",
        "model.compile(loss = 'mse', optimizer = Adam(lr=0.1))\n",
        "\n",
        "# train the RNN\n",
        "r = model.fit(X[:-N//2], Y[:-N//2], epochs=80, validation_data=(X[-N//2:], Y[-N//2:])) # here train first half of the data is for training and second half for validating i.e from 0 to 95 train and 96 to 190 validate"
      ],
      "execution_count": 14,
      "outputs": [
        {
          "output_type": "stream",
          "text": [
            "Epoch 1/80\n",
            "3/3 [==============================] - 0s 20ms/step - loss: 1.1453 - val_loss: 0.1411\n",
            "Epoch 2/80\n",
            "3/3 [==============================] - 0s 5ms/step - loss: 0.4712 - val_loss: 0.5754\n",
            "Epoch 3/80\n",
            "3/3 [==============================] - 0s 5ms/step - loss: 0.3921 - val_loss: 0.1328\n",
            "Epoch 4/80\n",
            "3/3 [==============================] - 0s 5ms/step - loss: 0.1124 - val_loss: 0.1653\n",
            "Epoch 5/80\n",
            "3/3 [==============================] - 0s 5ms/step - loss: 0.2688 - val_loss: 0.1210\n",
            "Epoch 6/80\n",
            "3/3 [==============================] - 0s 5ms/step - loss: 0.1068 - val_loss: 0.0187\n",
            "Epoch 7/80\n",
            "3/3 [==============================] - 0s 5ms/step - loss: 0.0532 - val_loss: 0.0835\n",
            "Epoch 8/80\n",
            "3/3 [==============================] - 0s 6ms/step - loss: 0.1166 - val_loss: 0.0409\n",
            "Epoch 9/80\n",
            "3/3 [==============================] - 0s 6ms/step - loss: 0.0506 - val_loss: 0.0437\n",
            "Epoch 10/80\n",
            "3/3 [==============================] - 0s 5ms/step - loss: 0.0580 - val_loss: 0.0665\n",
            "Epoch 11/80\n",
            "3/3 [==============================] - 0s 5ms/step - loss: 0.0576 - val_loss: 0.0197\n",
            "Epoch 12/80\n",
            "3/3 [==============================] - 0s 5ms/step - loss: 0.0316 - val_loss: 0.0377\n",
            "Epoch 13/80\n",
            "3/3 [==============================] - 0s 5ms/step - loss: 0.0483 - val_loss: 0.0357\n",
            "Epoch 14/80\n",
            "3/3 [==============================] - 0s 5ms/step - loss: 0.0341 - val_loss: 0.0167\n",
            "Epoch 15/80\n",
            "3/3 [==============================] - 0s 5ms/step - loss: 0.0328 - val_loss: 0.0246\n",
            "Epoch 16/80\n",
            "3/3 [==============================] - 0s 5ms/step - loss: 0.0310 - val_loss: 0.0150\n",
            "Epoch 17/80\n",
            "3/3 [==============================] - 0s 5ms/step - loss: 0.0256 - val_loss: 0.0188\n",
            "Epoch 18/80\n",
            "3/3 [==============================] - 0s 6ms/step - loss: 0.0285 - val_loss: 0.0152\n",
            "Epoch 19/80\n",
            "3/3 [==============================] - 0s 5ms/step - loss: 0.0249 - val_loss: 0.0158\n",
            "Epoch 20/80\n",
            "3/3 [==============================] - 0s 5ms/step - loss: 0.0246 - val_loss: 0.0149\n",
            "Epoch 21/80\n",
            "3/3 [==============================] - 0s 5ms/step - loss: 0.0231 - val_loss: 0.0148\n",
            "Epoch 22/80\n",
            "3/3 [==============================] - 0s 5ms/step - loss: 0.0230 - val_loss: 0.0146\n",
            "Epoch 23/80\n",
            "3/3 [==============================] - 0s 5ms/step - loss: 0.0228 - val_loss: 0.0140\n",
            "Epoch 24/80\n",
            "3/3 [==============================] - 0s 6ms/step - loss: 0.0224 - val_loss: 0.0139\n",
            "Epoch 25/80\n",
            "3/3 [==============================] - 0s 6ms/step - loss: 0.0229 - val_loss: 0.0140\n",
            "Epoch 26/80\n",
            "3/3 [==============================] - 0s 6ms/step - loss: 0.0223 - val_loss: 0.0141\n",
            "Epoch 27/80\n",
            "3/3 [==============================] - 0s 5ms/step - loss: 0.0223 - val_loss: 0.0140\n",
            "Epoch 28/80\n",
            "3/3 [==============================] - 0s 5ms/step - loss: 0.0218 - val_loss: 0.0139\n",
            "Epoch 29/80\n",
            "3/3 [==============================] - 0s 5ms/step - loss: 0.0219 - val_loss: 0.0135\n",
            "Epoch 30/80\n",
            "3/3 [==============================] - 0s 5ms/step - loss: 0.0212 - val_loss: 0.0134\n",
            "Epoch 31/80\n",
            "3/3 [==============================] - 0s 6ms/step - loss: 0.0213 - val_loss: 0.0136\n",
            "Epoch 32/80\n",
            "3/3 [==============================] - 0s 5ms/step - loss: 0.0211 - val_loss: 0.0133\n",
            "Epoch 33/80\n",
            "3/3 [==============================] - 0s 5ms/step - loss: 0.0209 - val_loss: 0.0132\n",
            "Epoch 34/80\n",
            "3/3 [==============================] - 0s 5ms/step - loss: 0.0206 - val_loss: 0.0131\n",
            "Epoch 35/80\n",
            "3/3 [==============================] - 0s 5ms/step - loss: 0.0208 - val_loss: 0.0138\n",
            "Epoch 36/80\n",
            "3/3 [==============================] - 0s 6ms/step - loss: 0.0205 - val_loss: 0.0129\n",
            "Epoch 37/80\n",
            "3/3 [==============================] - 0s 5ms/step - loss: 0.0203 - val_loss: 0.0129\n",
            "Epoch 38/80\n",
            "3/3 [==============================] - 0s 5ms/step - loss: 0.0201 - val_loss: 0.0127\n",
            "Epoch 39/80\n",
            "3/3 [==============================] - 0s 6ms/step - loss: 0.0197 - val_loss: 0.0127\n",
            "Epoch 40/80\n",
            "3/3 [==============================] - 0s 6ms/step - loss: 0.0198 - val_loss: 0.0129\n",
            "Epoch 41/80\n",
            "3/3 [==============================] - 0s 6ms/step - loss: 0.0196 - val_loss: 0.0129\n",
            "Epoch 42/80\n",
            "3/3 [==============================] - 0s 6ms/step - loss: 0.0193 - val_loss: 0.0124\n",
            "Epoch 43/80\n",
            "3/3 [==============================] - 0s 5ms/step - loss: 0.0191 - val_loss: 0.0123\n",
            "Epoch 44/80\n",
            "3/3 [==============================] - 0s 5ms/step - loss: 0.0191 - val_loss: 0.0123\n",
            "Epoch 45/80\n",
            "3/3 [==============================] - 0s 5ms/step - loss: 0.0189 - val_loss: 0.0123\n",
            "Epoch 46/80\n",
            "3/3 [==============================] - 0s 5ms/step - loss: 0.0189 - val_loss: 0.0124\n",
            "Epoch 47/80\n",
            "3/3 [==============================] - 0s 5ms/step - loss: 0.0189 - val_loss: 0.0123\n",
            "Epoch 48/80\n",
            "3/3 [==============================] - 0s 5ms/step - loss: 0.0190 - val_loss: 0.0130\n",
            "Epoch 49/80\n",
            "3/3 [==============================] - 0s 6ms/step - loss: 0.0186 - val_loss: 0.0124\n",
            "Epoch 50/80\n",
            "3/3 [==============================] - 0s 6ms/step - loss: 0.0185 - val_loss: 0.0120\n",
            "Epoch 51/80\n",
            "3/3 [==============================] - 0s 5ms/step - loss: 0.0180 - val_loss: 0.0120\n",
            "Epoch 52/80\n",
            "3/3 [==============================] - 0s 6ms/step - loss: 0.0182 - val_loss: 0.0119\n",
            "Epoch 53/80\n",
            "3/3 [==============================] - 0s 6ms/step - loss: 0.0179 - val_loss: 0.0120\n",
            "Epoch 54/80\n",
            "3/3 [==============================] - 0s 5ms/step - loss: 0.0177 - val_loss: 0.0121\n",
            "Epoch 55/80\n",
            "3/3 [==============================] - 0s 5ms/step - loss: 0.0177 - val_loss: 0.0121\n",
            "Epoch 56/80\n",
            "3/3 [==============================] - 0s 6ms/step - loss: 0.0179 - val_loss: 0.0118\n",
            "Epoch 57/80\n",
            "3/3 [==============================] - 0s 5ms/step - loss: 0.0182 - val_loss: 0.0122\n",
            "Epoch 58/80\n",
            "3/3 [==============================] - 0s 6ms/step - loss: 0.0174 - val_loss: 0.0120\n",
            "Epoch 59/80\n",
            "3/3 [==============================] - 0s 6ms/step - loss: 0.0176 - val_loss: 0.0128\n",
            "Epoch 60/80\n",
            "3/3 [==============================] - 0s 6ms/step - loss: 0.0181 - val_loss: 0.0122\n",
            "Epoch 61/80\n",
            "3/3 [==============================] - 0s 5ms/step - loss: 0.0177 - val_loss: 0.0117\n",
            "Epoch 62/80\n",
            "3/3 [==============================] - 0s 6ms/step - loss: 0.0170 - val_loss: 0.0117\n",
            "Epoch 63/80\n",
            "3/3 [==============================] - 0s 6ms/step - loss: 0.0172 - val_loss: 0.0118\n",
            "Epoch 64/80\n",
            "3/3 [==============================] - 0s 6ms/step - loss: 0.0172 - val_loss: 0.0117\n",
            "Epoch 65/80\n",
            "3/3 [==============================] - 0s 5ms/step - loss: 0.0168 - val_loss: 0.0123\n",
            "Epoch 66/80\n",
            "3/3 [==============================] - 0s 6ms/step - loss: 0.0168 - val_loss: 0.0118\n",
            "Epoch 67/80\n",
            "3/3 [==============================] - 0s 5ms/step - loss: 0.0167 - val_loss: 0.0116\n",
            "Epoch 68/80\n",
            "3/3 [==============================] - 0s 5ms/step - loss: 0.0169 - val_loss: 0.0118\n",
            "Epoch 69/80\n",
            "3/3 [==============================] - 0s 5ms/step - loss: 0.0175 - val_loss: 0.0119\n",
            "Epoch 70/80\n",
            "3/3 [==============================] - 0s 5ms/step - loss: 0.0168 - val_loss: 0.0118\n",
            "Epoch 71/80\n",
            "3/3 [==============================] - 0s 6ms/step - loss: 0.0166 - val_loss: 0.0117\n",
            "Epoch 72/80\n",
            "3/3 [==============================] - 0s 5ms/step - loss: 0.0167 - val_loss: 0.0117\n",
            "Epoch 73/80\n",
            "3/3 [==============================] - 0s 5ms/step - loss: 0.0162 - val_loss: 0.0116\n",
            "Epoch 74/80\n",
            "3/3 [==============================] - 0s 6ms/step - loss: 0.0163 - val_loss: 0.0118\n",
            "Epoch 75/80\n",
            "3/3 [==============================] - 0s 6ms/step - loss: 0.0163 - val_loss: 0.0121\n",
            "Epoch 76/80\n",
            "3/3 [==============================] - 0s 5ms/step - loss: 0.0162 - val_loss: 0.0116\n",
            "Epoch 77/80\n",
            "3/3 [==============================] - 0s 5ms/step - loss: 0.0164 - val_loss: 0.0115\n",
            "Epoch 78/80\n",
            "3/3 [==============================] - 0s 6ms/step - loss: 0.0159 - val_loss: 0.0118\n",
            "Epoch 79/80\n",
            "3/3 [==============================] - 0s 6ms/step - loss: 0.0162 - val_loss: 0.0120\n",
            "Epoch 80/80\n",
            "3/3 [==============================] - 0s 6ms/step - loss: 0.0159 - val_loss: 0.0119\n"
          ],
          "name": "stdout"
        }
      ]
    },
    {
      "cell_type": "code",
      "metadata": {
        "id": "iVzu-p-zR3Gw",
        "outputId": "abe2b20b-6fc1-4dc9-e0f8-2ec26892c9c8",
        "colab": {
          "base_uri": "https://localhost:8080/",
          "height": 287
        }
      },
      "source": [
        "# Plot loss per iteration\n",
        "import matplotlib.pyplot as plt\n",
        "plt.plot(r.history['loss'], label='loss')\n",
        "plt.plot(r.history['val_loss'], label='val_loss')\n",
        "plt.legend()"
      ],
      "execution_count": 15,
      "outputs": [
        {
          "output_type": "execute_result",
          "data": {
            "text/plain": [
              "<matplotlib.legend.Legend at 0x7fbe515ca9e8>"
            ]
          },
          "metadata": {
            "tags": []
          },
          "execution_count": 15
        },
        {
          "output_type": "display_data",
          "data": {
            "image/png": "[encoded data removed]",
            "text/plain": [
              "<Figure size 432x288 with 1 Axes>"
            ]
          },
          "metadata": {
            "tags": [],
            "needs_background": "light"
          }
        }
      ]
    },
    {
      "cell_type": "code",
      "metadata": {
        "id": "5bnsljSaVceG"
      },
      "source": [
        "# Forecast future values (use only self-predictions for making future predictions)\n",
        "\n",
        "validation_target = Y[-N//2:]\n",
        "validation_predictions = []\n",
        "\n",
        "# last train input\n",
        "last_x = X[-N//2] # 1-D arra8y of length T\n",
        "\n",
        "while len(validation_predictions) < len(validation_target):\n",
        "  p = model.predict(last_x.reshape(1, -1))[0,0] # 1x1 array -> scalar\n",
        "\n",
        "  # update the predictions list\n",
        "  validation_predictions.append(p)\n",
        "\n",
        "  # make the new input\n",
        "  last_x = np.roll(last_x, -1)\n",
        "  last_x[-1] = p"
      ],
      "execution_count": 16,
      "outputs": []
    },
    {
      "cell_type": "code",
      "metadata": {
        "id": "cEj-zC_HdPpN",
        "outputId": "b2e73940-bfac-47fd-8096-19632b882ba3",
        "colab": {
          "base_uri": "https://localhost:8080/",
          "height": 283
        }
      },
      "source": [
        "plt.plot(validation_target, label='forecast target')\n",
        "plt.plot(validation_predictions, label='forecast prediction')\n",
        "plt.legend()"
      ],
      "execution_count": 17,
      "outputs": [
        {
          "output_type": "execute_result",
          "data": {
            "text/plain": [
              "<matplotlib.legend.Legend at 0x7fbe5151d2e8>"
            ]
          },
          "metadata": {
            "tags": []
          },
          "execution_count": 17
        },
        {
          "output_type": "display_data",
          "data": {
            "image/png": "[encoded data removed]",
            "text/plain": [
              "<Figure size 432x288 with 1 Axes>"
            ]
          },
          "metadata": {
            "tags": [],
            "needs_background": "light"
          }
        }
      ]
    },
    {
      "cell_type": "code",
      "metadata": {
        "id": "06JuMEKNt0sU"
      },
      "source": [
        ""
      ],
      "execution_count": 17,
      "outputs": []
    }
  ]
}